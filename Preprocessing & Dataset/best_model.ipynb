{
 "cells": [
  {
   "cell_type": "code",
   "execution_count": null,
   "id": "bca771e3-ab05-4f4f-97e6-523ecba672cb",
   "metadata": {},
   "outputs": [],
   "source": [
    "import pandas as pd\n",
    "import numpy as np\n",
    "import matplotlib.pyplot as plt\n",
    "\n",
    "from sklearn.model_selection import train_test_split, GridSearchCV, RandomizedSearchCV\n",
    "from sklearn.preprocessing import StandardScaler\n",
    "from sklearn.metrics import make_scorer, mean_absolute_error, r2_score\n",
    "from sklearn.ensemble import RandomForestRegressor\n",
    "\n",
    "import pickle\n",
    "\n",
    "import warnings\n",
    "warnings.filterwarnings('ignore')\n",
    "\n",
    "# Load data\n",
    "df = pd.read_csv(\"preprocessed_data.csv\")\n",
    "\n",
    "# Scale numeric columns (e.g., Area)\n",
    "area_scaler = StandardScaler()\n",
    "df['Area (sqft)'] = area_scaler.fit_transform(df[['Area (sqft)']])\n",
    "\n",
    "# Save the scaler\n",
    "with open('area_scaler.pkl', 'wb') as scaler_file:\n",
    "    pickle.dump(area_scaler, scaler_file)\n",
    "\n",
    "# Define features (X) and target (y)\n",
    "X = df[['Area (sqft)', 'BHK', 'Bathrooms', 'Construction Status', 'City', 'Location_encoded']]\n",
    "y = df['Price']\n",
    "\n",
    "# Split the data\n",
    "X_train, X_test, y_train, y_test = train_test_split(X, y, test_size=0.2, random_state=42)\n",
    "\n",
    "# Custom scorers\n",
    "mae_scorer = make_scorer(mean_absolute_error, greater_is_better=False)\n",
    "r2_scorer = make_scorer(r2_score)\n",
    "\n",
    "model = RandomForestRegressor(n_estimators=300,min_samples_split=5 ,min_samples_leaf=2,max_depth=20,bootstrap=True)\n",
    "model.fit(X_train,y_train)\n",
    "\n",
    "with open('random_forest_model.pkl', 'wb') as file:\n",
    "    pickle.dump(model, file)\n",
    "\n",
    "y_pred = model.predict(X_test)\n",
    "\n",
    "mean_absolute_error(y_test, y_pred)\n",
    "\n",
    "r2_score(y_test, y_pred)"
   ]
  }
 ],
 "metadata": {
  "kernelspec": {
   "display_name": "Python 3 (ipykernel)",
   "language": "python",
   "name": "python3"
  },
  "language_info": {
   "codemirror_mode": {
    "name": "ipython",
    "version": 3
   },
   "file_extension": ".py",
   "mimetype": "text/x-python",
   "name": "python",
   "nbconvert_exporter": "python",
   "pygments_lexer": "ipython3",
   "version": "3.12.5"
  }
 },
 "nbformat": 4,
 "nbformat_minor": 5
}
